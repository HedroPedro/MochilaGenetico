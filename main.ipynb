{
 "cells": [
  {
   "cell_type": "code",
   "execution_count": 3,
   "id": "84fddcff",
   "metadata": {},
   "outputs": [],
   "source": [
    "from random import random"
   ]
  },
  {
   "cell_type": "code",
   "execution_count": 6,
   "id": "994fb41a",
   "metadata": {},
   "outputs": [],
   "source": [
    "class Item:\n",
    "    def __init__(self, peso, valor):\n",
    "        self.peso = peso\n",
    "        self.valor = valor"
   ]
  },
  {
   "cell_type": "code",
   "execution_count": 31,
   "id": "e6b90c24",
   "metadata": {},
   "outputs": [],
   "source": [
    "def solucionar(items : list[Item], max_peso, qtd_cria, qtd_gens, crossover, mutation_rate):\n",
    "    cria = [[] for _ in range(0, qtd_cria)]\n",
    "    crossover_rate = int(crossover*len(items))\n",
    "    melhor = -1\n",
    "    def get_peso_valor(c):\n",
    "        soma_peso = 0\n",
    "        soma_valor = 0\n",
    "        for inside, i in zip(c, range(0, len(c))):\n",
    "            soma_peso += items[i].peso if inside else 0\n",
    "            soma_valor += items[i].valor if inside else 0\n",
    "        return soma_peso, soma_valor\n",
    "\n",
    "    for c in cria:\n",
    "        for _ in items:\n",
    "            c.append(random() > 0.5)\n",
    "\n",
    "    for _ in range(0, qtd_gens):\n",
    "        melhor_index = -1\n",
    "        melhor_sec = -1\n",
    "        for c, i in zip(cria, range(0, len(cria))):\n",
    "            soma_peso, soma_valor = get_peso_valor(c)\n",
    "            if (soma_peso <= max_peso and soma_valor >= melhor):\n",
    "                melhor_index, melhor_sec = i, melhor_index\n",
    "                melhor = soma_valor\n",
    "        lista_melhor = cria[melhor_index]\n",
    "        lista_melhor_2 = cria[melhor_sec]\n",
    "        base = lista_melhor[:crossover_rate]\n",
    "        base.extend(lista_melhor_2[crossover_rate:])\n",
    "\n",
    "        cria = [[] for _ in range(0, qtd_cria)]\n",
    "        for c in cria:\n",
    "            for bol in base:\n",
    "                c.append(not bol if random() <= mutation_rate else bol)\n",
    "\n",
    "    return melhor"
   ]
  },
  {
   "cell_type": "code",
   "execution_count": 33,
   "id": "dce2e6c8",
   "metadata": {},
   "outputs": [
    {
     "name": "stdout",
     "output_type": "stream",
     "text": [
      "46\n"
     ]
    }
   ],
   "source": [
    "items = [Item(1, 5), Item(3, 1), Item(40, 0), Item(2, 40)]\n",
    "print(solucionar(items, 9, 5, 2, 0.5, 0.15))"
   ]
  }
 ],
 "metadata": {
  "kernelspec": {
   "display_name": "Python 3",
   "language": "python",
   "name": "python3"
  },
  "language_info": {
   "codemirror_mode": {
    "name": "ipython",
    "version": 3
   },
   "file_extension": ".py",
   "mimetype": "text/x-python",
   "name": "python",
   "nbconvert_exporter": "python",
   "pygments_lexer": "ipython3",
   "version": "3.12.10"
  }
 },
 "nbformat": 4,
 "nbformat_minor": 5
}
