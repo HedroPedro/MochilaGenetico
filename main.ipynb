{
 "cells": [
  {
   "cell_type": "code",
   "execution_count": 34,
   "id": "84fddcff",
   "metadata": {},
   "outputs": [],
   "source": [
    "from random import random, randint"
   ]
  },
  {
   "cell_type": "code",
   "execution_count": 44,
   "id": "994fb41a",
   "metadata": {},
   "outputs": [],
   "source": [
    "class Item:\n",
    "    def __init__(self, peso, valor):\n",
    "        self.peso = peso\n",
    "        self.valor = valor\n",
    "\n",
    "    def __str__(self):\n",
    "        return f\"Peso: {self.peso};Valor: {self.valor}\""
   ]
  },
  {
   "cell_type": "code",
   "execution_count": null,
   "id": "e6b90c24",
   "metadata": {},
   "outputs": [],
   "source": [
    "def solucionar(items : list[Item], max_peso, qtd_cria, qtd_gens, crossover, mutation_rate):\n",
    "    cria = [[] for _ in range(0, qtd_cria)]\n",
    "    crossover_rate = int(crossover*len(items))\n",
    "    melhor = -1\n",
    "    lista_melhor = []\n",
    "    def get_peso_valor(c):\n",
    "        soma_peso = 0\n",
    "        soma_valor = 0\n",
    "        for inside, i in zip(c, range(0, len(c))):\n",
    "            soma_peso += items[i].peso if inside else 0\n",
    "            soma_valor += items[i].valor if inside else 0\n",
    "        return soma_peso, soma_valor\n",
    "\n",
    "    for c in cria:\n",
    "        for _ in items:\n",
    "            c.append(random() > 0.5)\n",
    "\n",
    "    for _ in range(0, qtd_gens):\n",
    "        melhor_index = -1\n",
    "        melhor_sec = -1\n",
    "        for c, i in zip(cria, range(0, len(cria))):\n",
    "            soma_peso, soma_valor = get_peso_valor(c)\n",
    "            if (soma_peso <= max_peso and soma_valor >= melhor):\n",
    "                melhor_index, melhor_sec = i, melhor_index\n",
    "                melhor = soma_valor\n",
    "        lista_melhor = cria[melhor_index]\n",
    "        lista_melhor_2 = cria[melhor_sec]\n",
    "        base = lista_melhor[:crossover_rate]\n",
    "        base.extend(lista_melhor_2[crossover_rate:])\n",
    "\n",
    "        cria = [[] for _ in range(0, qtd_cria)]\n",
    "        for c in cria:\n",
    "            for bol in base:\n",
    "                c.append(not bol if random() <= mutation_rate else bol)\n",
    "\n",
    "    return melhor, lista_melhor"
   ]
  },
  {
   "cell_type": "code",
   "execution_count": 42,
   "id": "04b3ceac",
   "metadata": {},
   "outputs": [],
   "source": [
    "def generate_list(amount):\n",
    "    lista = []\n",
    "    for _ in range(amount):\n",
    "        lista.append(Item(randint(1, 10), randint(0, 25)))\n",
    "\n",
    "    return lista"
   ]
  },
  {
   "cell_type": "code",
   "execution_count": 60,
   "id": "dce2e6c8",
   "metadata": {},
   "outputs": [
    {
     "name": "stdout",
     "output_type": "stream",
     "text": [
      "23\n"
     ]
    }
   ],
   "source": [
    "items = generate_list(5)\n",
    "print(solucionar(items, 9, 5, 2, 0.5, 0.15))"
   ]
  },
  {
   "cell_type": "code",
   "execution_count": 58,
   "id": "c0673dab",
   "metadata": {},
   "outputs": [
    {
     "name": "stdout",
     "output_type": "stream",
     "text": [
      "48\n"
     ]
    }
   ],
   "source": [
    "items = generate_list(10)\n",
    "print(solucionar(items, 7, 10, 8, 0.75, 0.1))"
   ]
  }
 ],
 "metadata": {
  "kernelspec": {
   "display_name": "Python 3",
   "language": "python",
   "name": "python3"
  },
  "language_info": {
   "codemirror_mode": {
    "name": "ipython",
    "version": 3
   },
   "file_extension": ".py",
   "mimetype": "text/x-python",
   "name": "python",
   "nbconvert_exporter": "python",
   "pygments_lexer": "ipython3",
   "version": "3.12.10"
  }
 },
 "nbformat": 4,
 "nbformat_minor": 5
}
